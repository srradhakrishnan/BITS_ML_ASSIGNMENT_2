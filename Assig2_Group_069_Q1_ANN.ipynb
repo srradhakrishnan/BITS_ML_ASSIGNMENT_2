{
 "cells": [
  {
   "cell_type": "markdown",
   "metadata": {},
   "source": []
  },
  {
   "cell_type": "markdown",
   "metadata": {},
   "source": [
    "# PROBLEM STATEMENT for ANN:\n",
    "Dataset Link - advertising.csv    \n",
    "In this assignment you will be working with a dummy advertising data set, indicating whether or not a particular internet user clicked on an Advertisement on a company website. you will try to create a model that will predict whether or not they will click on an ad based on the features of that user.\n",
    "This data set contains the following features:\n",
    "* 'Daily Time Spent on Site': consumer time on site in minutes\n",
    "* 'Age': customer age in years\n",
    "* 'Area Income': Avg. Income of geographical area of consumer\n",
    "* 'Daily Internet Usage': Avg. minutes a day consumer is on the internet\n",
    "* 'Ad Topic Line': Headline of the advertisement\n",
    "* 'City': City of consumer\n",
    "* 'Male': Whether or not consumer was male\n",
    "* 'Country': Country of consumer\n",
    "* 'Timestamp': Time at which consumer clicked on Ad or closed window\n",
    "* 'Clicked on Ad': 0 or 1 indicated clicking on Ad\n",
    "For the dataset (Advertising dataset), implement the ANN classifier using Keras in Python. [5M]\n",
    "Dataset: Advertising Dataset.csv\n",
    "The marks distribution are as follows:\n",
    "1.\tImport the libraries and Load the dataset and Remove/replace missing values (if any) [1M]\n",
    "2.\tSplit features and labels [0.5M]\n",
    "3.\tSplit train and test data [0.5M]\n",
    "4.\tImplement ANN Classifier using Keras [2M]\n",
    "5.\tCalculate accuracy measures [1M]\n",
    "\n",
    "Justify model.\n",
    "\n",
    "For any Queries on this question, Contact: sanjjayyp@wilp.bits-pilani.ac.in\n"
   ]
  },
  {
   "cell_type": "markdown",
   "metadata": {},
   "source": [
    "### Q1: Import the libraries and Load the dataset and Remove/replace missing values (if any) \n",
    "Importing required libraries"
   ]
  },
  {
   "cell_type": "code",
   "execution_count": 1,
   "metadata": {},
   "outputs": [],
   "source": [
    "#Dependencies\n",
    "import tensorflow as tf\n",
    "import numpy as np\n",
    "import pandas as pd\n",
    "from tensorflow import keras\n",
    "from tensorflow.keras import layers\n",
    "from tensorflow.keras.layers.experimental.preprocessing import Normalization\n",
    "import os"
   ]
  },
  {
   "cell_type": "code",
   "execution_count": 2,
   "metadata": {},
   "outputs": [
    {
     "name": "stdout",
     "output_type": "stream",
     "text": [
      "/Users/lohiya/AnacondaProjects/BITS_ML_ASSIGNMENT_2/advertising-1.csv\n"
     ]
    }
   ],
   "source": [
    "#dataset import\n",
    "#to set up the current directory for input car dataset\n",
    "#place advertising.csv file under the same dir where this .ipynb file is placed.\n",
    "__location__ = os.path.realpath(os.getcwd())\n",
    "for dirname, _, filenames in os.walk(__location__):\n",
    "    for filename in filenames:\n",
    "        if filename == 'advertising-1.csv':\n",
    "            input_data = os.path.join(dirname, filename)\n",
    "print(input_data)\n",
    "dataset = pd.read_csv(input_data)"
   ]
  },
  {
   "cell_type": "markdown",
   "metadata": {},
   "source": [
    "### Outlier and Null data detection"
   ]
  },
  {
   "cell_type": "code",
   "execution_count": 3,
   "metadata": {},
   "outputs": [
    {
     "name": "stdout",
     "output_type": "stream",
     "text": [
      "<class 'pandas.core.frame.DataFrame'>\n",
      "RangeIndex: 1000 entries, 0 to 999\n",
      "Data columns (total 10 columns):\n",
      " #   Column                    Non-Null Count  Dtype  \n",
      "---  ------                    --------------  -----  \n",
      " 0   Daily Time Spent on Site  1000 non-null   float64\n",
      " 1   Age                       1000 non-null   int64  \n",
      " 2   Area Income               1000 non-null   float64\n",
      " 3   Daily Internet Usage      1000 non-null   float64\n",
      " 4   Ad Topic Line             1000 non-null   object \n",
      " 5   City                      1000 non-null   object \n",
      " 6   Male                      1000 non-null   int64  \n",
      " 7   Country                   1000 non-null   object \n",
      " 8   Timestamp                 1000 non-null   object \n",
      " 9   Clicked on Ad             1000 non-null   int64  \n",
      "dtypes: float64(3), int64(3), object(4)\n",
      "memory usage: 78.2+ KB\n"
     ]
    }
   ],
   "source": [
    "# dataset info\n",
    "dataset.info()"
   ]
  },
  {
   "cell_type": "code",
   "execution_count": 4,
   "metadata": {},
   "outputs": [
    {
     "data": {
      "text/plain": [
       "(1000, 10)"
      ]
     },
     "execution_count": 4,
     "metadata": {},
     "output_type": "execute_result"
    }
   ],
   "source": [
    "# dataset shape\n",
    "dataset.shape"
   ]
  },
  {
   "cell_type": "code",
   "execution_count": 5,
   "metadata": {},
   "outputs": [
    {
     "data": {
      "text/html": [
       "<div>\n",
       "<style scoped>\n",
       "    .dataframe tbody tr th:only-of-type {\n",
       "        vertical-align: middle;\n",
       "    }\n",
       "\n",
       "    .dataframe tbody tr th {\n",
       "        vertical-align: top;\n",
       "    }\n",
       "\n",
       "    .dataframe thead th {\n",
       "        text-align: right;\n",
       "    }\n",
       "</style>\n",
       "<table border=\"1\" class=\"dataframe\">\n",
       "  <thead>\n",
       "    <tr style=\"text-align: right;\">\n",
       "      <th></th>\n",
       "      <th>Daily Time Spent on Site</th>\n",
       "      <th>Age</th>\n",
       "      <th>Area Income</th>\n",
       "      <th>Daily Internet Usage</th>\n",
       "      <th>Ad Topic Line</th>\n",
       "      <th>City</th>\n",
       "      <th>Male</th>\n",
       "      <th>Country</th>\n",
       "      <th>Timestamp</th>\n",
       "      <th>Clicked on Ad</th>\n",
       "    </tr>\n",
       "  </thead>\n",
       "  <tbody>\n",
       "    <tr>\n",
       "      <th>0</th>\n",
       "      <td>68.95</td>\n",
       "      <td>35</td>\n",
       "      <td>61833.90</td>\n",
       "      <td>256.09</td>\n",
       "      <td>Cloned 5thgeneration orchestration</td>\n",
       "      <td>Wrightburgh</td>\n",
       "      <td>0</td>\n",
       "      <td>Tunisia</td>\n",
       "      <td>2016-03-27 00:53:11</td>\n",
       "      <td>0</td>\n",
       "    </tr>\n",
       "    <tr>\n",
       "      <th>1</th>\n",
       "      <td>80.23</td>\n",
       "      <td>31</td>\n",
       "      <td>68441.85</td>\n",
       "      <td>193.77</td>\n",
       "      <td>Monitored national standardization</td>\n",
       "      <td>West Jodi</td>\n",
       "      <td>1</td>\n",
       "      <td>Nauru</td>\n",
       "      <td>2016-04-04 01:39:02</td>\n",
       "      <td>0</td>\n",
       "    </tr>\n",
       "    <tr>\n",
       "      <th>2</th>\n",
       "      <td>69.47</td>\n",
       "      <td>26</td>\n",
       "      <td>59785.94</td>\n",
       "      <td>236.50</td>\n",
       "      <td>Organic bottom-line service-desk</td>\n",
       "      <td>Davidton</td>\n",
       "      <td>0</td>\n",
       "      <td>San Marino</td>\n",
       "      <td>2016-03-13 20:35:42</td>\n",
       "      <td>0</td>\n",
       "    </tr>\n",
       "    <tr>\n",
       "      <th>3</th>\n",
       "      <td>74.15</td>\n",
       "      <td>29</td>\n",
       "      <td>54806.18</td>\n",
       "      <td>245.89</td>\n",
       "      <td>Triple-buffered reciprocal time-frame</td>\n",
       "      <td>West Terrifurt</td>\n",
       "      <td>1</td>\n",
       "      <td>Italy</td>\n",
       "      <td>2016-01-10 02:31:19</td>\n",
       "      <td>0</td>\n",
       "    </tr>\n",
       "    <tr>\n",
       "      <th>4</th>\n",
       "      <td>68.37</td>\n",
       "      <td>35</td>\n",
       "      <td>73889.99</td>\n",
       "      <td>225.58</td>\n",
       "      <td>Robust logistical utilization</td>\n",
       "      <td>South Manuel</td>\n",
       "      <td>0</td>\n",
       "      <td>Iceland</td>\n",
       "      <td>2016-06-03 03:36:18</td>\n",
       "      <td>0</td>\n",
       "    </tr>\n",
       "  </tbody>\n",
       "</table>\n",
       "</div>"
      ],
      "text/plain": [
       "   Daily Time Spent on Site  Age  Area Income  Daily Internet Usage  \\\n",
       "0                     68.95   35     61833.90                256.09   \n",
       "1                     80.23   31     68441.85                193.77   \n",
       "2                     69.47   26     59785.94                236.50   \n",
       "3                     74.15   29     54806.18                245.89   \n",
       "4                     68.37   35     73889.99                225.58   \n",
       "\n",
       "                           Ad Topic Line            City  Male     Country  \\\n",
       "0     Cloned 5thgeneration orchestration     Wrightburgh     0     Tunisia   \n",
       "1     Monitored national standardization       West Jodi     1       Nauru   \n",
       "2       Organic bottom-line service-desk        Davidton     0  San Marino   \n",
       "3  Triple-buffered reciprocal time-frame  West Terrifurt     1       Italy   \n",
       "4          Robust logistical utilization    South Manuel     0     Iceland   \n",
       "\n",
       "             Timestamp  Clicked on Ad  \n",
       "0  2016-03-27 00:53:11              0  \n",
       "1  2016-04-04 01:39:02              0  \n",
       "2  2016-03-13 20:35:42              0  \n",
       "3  2016-01-10 02:31:19              0  \n",
       "4  2016-06-03 03:36:18              0  "
      ]
     },
     "execution_count": 5,
     "metadata": {},
     "output_type": "execute_result"
    }
   ],
   "source": [
    "# Dataset \n",
    "dataset.head()"
   ]
  },
  {
   "cell_type": "code",
   "execution_count": 6,
   "metadata": {},
   "outputs": [
    {
     "data": {
      "text/html": [
       "<div>\n",
       "<style scoped>\n",
       "    .dataframe tbody tr th:only-of-type {\n",
       "        vertical-align: middle;\n",
       "    }\n",
       "\n",
       "    .dataframe tbody tr th {\n",
       "        vertical-align: top;\n",
       "    }\n",
       "\n",
       "    .dataframe thead th {\n",
       "        text-align: right;\n",
       "    }\n",
       "</style>\n",
       "<table border=\"1\" class=\"dataframe\">\n",
       "  <thead>\n",
       "    <tr style=\"text-align: right;\">\n",
       "      <th></th>\n",
       "      <th>Daily Time Spent on Site</th>\n",
       "      <th>Age</th>\n",
       "      <th>Area Income</th>\n",
       "      <th>Daily Internet Usage</th>\n",
       "      <th>Male</th>\n",
       "      <th>Clicked on Ad</th>\n",
       "    </tr>\n",
       "  </thead>\n",
       "  <tbody>\n",
       "    <tr>\n",
       "      <th>count</th>\n",
       "      <td>1000.000000</td>\n",
       "      <td>1000.000000</td>\n",
       "      <td>1000.000000</td>\n",
       "      <td>1000.000000</td>\n",
       "      <td>1000.000000</td>\n",
       "      <td>1000.00000</td>\n",
       "    </tr>\n",
       "    <tr>\n",
       "      <th>mean</th>\n",
       "      <td>65.000200</td>\n",
       "      <td>36.009000</td>\n",
       "      <td>55000.000080</td>\n",
       "      <td>180.000100</td>\n",
       "      <td>0.481000</td>\n",
       "      <td>0.50000</td>\n",
       "    </tr>\n",
       "    <tr>\n",
       "      <th>std</th>\n",
       "      <td>15.853615</td>\n",
       "      <td>8.785562</td>\n",
       "      <td>13414.634022</td>\n",
       "      <td>43.902339</td>\n",
       "      <td>0.499889</td>\n",
       "      <td>0.50025</td>\n",
       "    </tr>\n",
       "    <tr>\n",
       "      <th>min</th>\n",
       "      <td>32.600000</td>\n",
       "      <td>19.000000</td>\n",
       "      <td>13996.500000</td>\n",
       "      <td>104.780000</td>\n",
       "      <td>0.000000</td>\n",
       "      <td>0.00000</td>\n",
       "    </tr>\n",
       "    <tr>\n",
       "      <th>25%</th>\n",
       "      <td>51.360000</td>\n",
       "      <td>29.000000</td>\n",
       "      <td>47031.802500</td>\n",
       "      <td>138.830000</td>\n",
       "      <td>0.000000</td>\n",
       "      <td>0.00000</td>\n",
       "    </tr>\n",
       "    <tr>\n",
       "      <th>50%</th>\n",
       "      <td>68.215000</td>\n",
       "      <td>35.000000</td>\n",
       "      <td>57012.300000</td>\n",
       "      <td>183.130000</td>\n",
       "      <td>0.000000</td>\n",
       "      <td>0.50000</td>\n",
       "    </tr>\n",
       "    <tr>\n",
       "      <th>75%</th>\n",
       "      <td>78.547500</td>\n",
       "      <td>42.000000</td>\n",
       "      <td>65470.635000</td>\n",
       "      <td>218.792500</td>\n",
       "      <td>1.000000</td>\n",
       "      <td>1.00000</td>\n",
       "    </tr>\n",
       "    <tr>\n",
       "      <th>max</th>\n",
       "      <td>91.430000</td>\n",
       "      <td>61.000000</td>\n",
       "      <td>79484.800000</td>\n",
       "      <td>269.960000</td>\n",
       "      <td>1.000000</td>\n",
       "      <td>1.00000</td>\n",
       "    </tr>\n",
       "  </tbody>\n",
       "</table>\n",
       "</div>"
      ],
      "text/plain": [
       "       Daily Time Spent on Site          Age   Area Income  \\\n",
       "count               1000.000000  1000.000000   1000.000000   \n",
       "mean                  65.000200    36.009000  55000.000080   \n",
       "std                   15.853615     8.785562  13414.634022   \n",
       "min                   32.600000    19.000000  13996.500000   \n",
       "25%                   51.360000    29.000000  47031.802500   \n",
       "50%                   68.215000    35.000000  57012.300000   \n",
       "75%                   78.547500    42.000000  65470.635000   \n",
       "max                   91.430000    61.000000  79484.800000   \n",
       "\n",
       "       Daily Internet Usage         Male  Clicked on Ad  \n",
       "count           1000.000000  1000.000000     1000.00000  \n",
       "mean             180.000100     0.481000        0.50000  \n",
       "std               43.902339     0.499889        0.50025  \n",
       "min              104.780000     0.000000        0.00000  \n",
       "25%              138.830000     0.000000        0.00000  \n",
       "50%              183.130000     0.000000        0.50000  \n",
       "75%              218.792500     1.000000        1.00000  \n",
       "max              269.960000     1.000000        1.00000  "
      ]
     },
     "execution_count": 6,
     "metadata": {},
     "output_type": "execute_result"
    }
   ],
   "source": [
    "# Dataset describe\n",
    "dataset.describe()"
   ]
  },
  {
   "cell_type": "code",
   "execution_count": 7,
   "metadata": {},
   "outputs": [
    {
     "data": {
      "text/plain": [
       "Daily Time Spent on Site    0\n",
       "Age                         0\n",
       "Area Income                 0\n",
       "Daily Internet Usage        0\n",
       "Ad Topic Line               0\n",
       "City                        0\n",
       "Male                        0\n",
       "Country                     0\n",
       "Timestamp                   0\n",
       "Clicked on Ad               0\n",
       "dtype: int64"
      ]
     },
     "execution_count": 7,
     "metadata": {},
     "output_type": "execute_result"
    }
   ],
   "source": [
    "#Null value check\n",
    "dataset.isnull().sum()"
   ]
  },
  {
   "cell_type": "markdown",
   "metadata": {},
   "source": [
    "\n",
    "Above output shows no null data and oulier in dataset"
   ]
  },
  {
   "cell_type": "markdown",
   "metadata": {},
   "source": [
    "### Hot Encoding procedure \n"
   ]
  },
  {
   "cell_type": "code",
   "execution_count": 8,
   "metadata": {},
   "outputs": [
    {
     "data": {
      "text/plain": [
       "1000"
      ]
     },
     "execution_count": 8,
     "metadata": {},
     "output_type": "execute_result"
    }
   ],
   "source": [
    "##ULS \n",
    "#  1 hot encoding, 'Ad Topic Line'\n",
    "len(dataset['Ad Topic Line'].value_counts())"
   ]
  },
  {
   "cell_type": "code",
   "execution_count": 9,
   "metadata": {},
   "outputs": [
    {
     "data": {
      "text/html": [
       "<div>\n",
       "<style scoped>\n",
       "    .dataframe tbody tr th:only-of-type {\n",
       "        vertical-align: middle;\n",
       "    }\n",
       "\n",
       "    .dataframe tbody tr th {\n",
       "        vertical-align: top;\n",
       "    }\n",
       "\n",
       "    .dataframe thead th {\n",
       "        text-align: right;\n",
       "    }\n",
       "</style>\n",
       "<table border=\"1\" class=\"dataframe\">\n",
       "  <thead>\n",
       "    <tr style=\"text-align: right;\">\n",
       "      <th></th>\n",
       "      <th>Daily Time Spent on Site</th>\n",
       "      <th>Age</th>\n",
       "      <th>Area Income</th>\n",
       "      <th>Daily Internet Usage</th>\n",
       "      <th>City</th>\n",
       "      <th>Male</th>\n",
       "      <th>Country</th>\n",
       "      <th>Timestamp</th>\n",
       "      <th>Clicked on Ad</th>\n",
       "    </tr>\n",
       "  </thead>\n",
       "  <tbody>\n",
       "    <tr>\n",
       "      <th>0</th>\n",
       "      <td>68.95</td>\n",
       "      <td>35</td>\n",
       "      <td>61833.90</td>\n",
       "      <td>256.09</td>\n",
       "      <td>Wrightburgh</td>\n",
       "      <td>0</td>\n",
       "      <td>Tunisia</td>\n",
       "      <td>2016-03-27 00:53:11</td>\n",
       "      <td>0</td>\n",
       "    </tr>\n",
       "    <tr>\n",
       "      <th>1</th>\n",
       "      <td>80.23</td>\n",
       "      <td>31</td>\n",
       "      <td>68441.85</td>\n",
       "      <td>193.77</td>\n",
       "      <td>West Jodi</td>\n",
       "      <td>1</td>\n",
       "      <td>Nauru</td>\n",
       "      <td>2016-04-04 01:39:02</td>\n",
       "      <td>0</td>\n",
       "    </tr>\n",
       "    <tr>\n",
       "      <th>2</th>\n",
       "      <td>69.47</td>\n",
       "      <td>26</td>\n",
       "      <td>59785.94</td>\n",
       "      <td>236.50</td>\n",
       "      <td>Davidton</td>\n",
       "      <td>0</td>\n",
       "      <td>San Marino</td>\n",
       "      <td>2016-03-13 20:35:42</td>\n",
       "      <td>0</td>\n",
       "    </tr>\n",
       "    <tr>\n",
       "      <th>3</th>\n",
       "      <td>74.15</td>\n",
       "      <td>29</td>\n",
       "      <td>54806.18</td>\n",
       "      <td>245.89</td>\n",
       "      <td>West Terrifurt</td>\n",
       "      <td>1</td>\n",
       "      <td>Italy</td>\n",
       "      <td>2016-01-10 02:31:19</td>\n",
       "      <td>0</td>\n",
       "    </tr>\n",
       "    <tr>\n",
       "      <th>4</th>\n",
       "      <td>68.37</td>\n",
       "      <td>35</td>\n",
       "      <td>73889.99</td>\n",
       "      <td>225.58</td>\n",
       "      <td>South Manuel</td>\n",
       "      <td>0</td>\n",
       "      <td>Iceland</td>\n",
       "      <td>2016-06-03 03:36:18</td>\n",
       "      <td>0</td>\n",
       "    </tr>\n",
       "  </tbody>\n",
       "</table>\n",
       "</div>"
      ],
      "text/plain": [
       "   Daily Time Spent on Site  Age  Area Income  Daily Internet Usage  \\\n",
       "0                     68.95   35     61833.90                256.09   \n",
       "1                     80.23   31     68441.85                193.77   \n",
       "2                     69.47   26     59785.94                236.50   \n",
       "3                     74.15   29     54806.18                245.89   \n",
       "4                     68.37   35     73889.99                225.58   \n",
       "\n",
       "             City  Male     Country            Timestamp  Clicked on Ad  \n",
       "0     Wrightburgh     0     Tunisia  2016-03-27 00:53:11              0  \n",
       "1       West Jodi     1       Nauru  2016-04-04 01:39:02              0  \n",
       "2        Davidton     0  San Marino  2016-03-13 20:35:42              0  \n",
       "3  West Terrifurt     1       Italy  2016-01-10 02:31:19              0  \n",
       "4    South Manuel     0     Iceland  2016-06-03 03:36:18              0  "
      ]
     },
     "execution_count": 9,
     "metadata": {},
     "output_type": "execute_result"
    }
   ],
   "source": [
    "#Drop 'Ad Topic Line', all 1000 values are unqiue\n",
    "dataset=dataset.drop( columns='Ad Topic Line')\n",
    "dataset.head()"
   ]
  },
  {
   "cell_type": "code",
   "execution_count": 10,
   "metadata": {},
   "outputs": [
    {
     "data": {
      "text/plain": [
       "969"
      ]
     },
     "execution_count": 10,
     "metadata": {},
     "output_type": "execute_result"
    }
   ],
   "source": [
    "##ULS \n",
    "#  1 hot encoding, 'City'\n",
    "len(dataset['City'].value_counts())"
   ]
  },
  {
   "cell_type": "code",
   "execution_count": 11,
   "metadata": {},
   "outputs": [
    {
     "data": {
      "text/html": [
       "<div>\n",
       "<style scoped>\n",
       "    .dataframe tbody tr th:only-of-type {\n",
       "        vertical-align: middle;\n",
       "    }\n",
       "\n",
       "    .dataframe tbody tr th {\n",
       "        vertical-align: top;\n",
       "    }\n",
       "\n",
       "    .dataframe thead th {\n",
       "        text-align: right;\n",
       "    }\n",
       "</style>\n",
       "<table border=\"1\" class=\"dataframe\">\n",
       "  <thead>\n",
       "    <tr style=\"text-align: right;\">\n",
       "      <th></th>\n",
       "      <th>Daily Time Spent on Site</th>\n",
       "      <th>Age</th>\n",
       "      <th>Area Income</th>\n",
       "      <th>Daily Internet Usage</th>\n",
       "      <th>Male</th>\n",
       "      <th>Country</th>\n",
       "      <th>Timestamp</th>\n",
       "      <th>Clicked on Ad</th>\n",
       "    </tr>\n",
       "  </thead>\n",
       "  <tbody>\n",
       "    <tr>\n",
       "      <th>0</th>\n",
       "      <td>68.95</td>\n",
       "      <td>35</td>\n",
       "      <td>61833.90</td>\n",
       "      <td>256.09</td>\n",
       "      <td>0</td>\n",
       "      <td>Tunisia</td>\n",
       "      <td>2016-03-27 00:53:11</td>\n",
       "      <td>0</td>\n",
       "    </tr>\n",
       "    <tr>\n",
       "      <th>1</th>\n",
       "      <td>80.23</td>\n",
       "      <td>31</td>\n",
       "      <td>68441.85</td>\n",
       "      <td>193.77</td>\n",
       "      <td>1</td>\n",
       "      <td>Nauru</td>\n",
       "      <td>2016-04-04 01:39:02</td>\n",
       "      <td>0</td>\n",
       "    </tr>\n",
       "    <tr>\n",
       "      <th>2</th>\n",
       "      <td>69.47</td>\n",
       "      <td>26</td>\n",
       "      <td>59785.94</td>\n",
       "      <td>236.50</td>\n",
       "      <td>0</td>\n",
       "      <td>San Marino</td>\n",
       "      <td>2016-03-13 20:35:42</td>\n",
       "      <td>0</td>\n",
       "    </tr>\n",
       "    <tr>\n",
       "      <th>3</th>\n",
       "      <td>74.15</td>\n",
       "      <td>29</td>\n",
       "      <td>54806.18</td>\n",
       "      <td>245.89</td>\n",
       "      <td>1</td>\n",
       "      <td>Italy</td>\n",
       "      <td>2016-01-10 02:31:19</td>\n",
       "      <td>0</td>\n",
       "    </tr>\n",
       "    <tr>\n",
       "      <th>4</th>\n",
       "      <td>68.37</td>\n",
       "      <td>35</td>\n",
       "      <td>73889.99</td>\n",
       "      <td>225.58</td>\n",
       "      <td>0</td>\n",
       "      <td>Iceland</td>\n",
       "      <td>2016-06-03 03:36:18</td>\n",
       "      <td>0</td>\n",
       "    </tr>\n",
       "  </tbody>\n",
       "</table>\n",
       "</div>"
      ],
      "text/plain": [
       "   Daily Time Spent on Site  Age  Area Income  Daily Internet Usage  Male  \\\n",
       "0                     68.95   35     61833.90                256.09     0   \n",
       "1                     80.23   31     68441.85                193.77     1   \n",
       "2                     69.47   26     59785.94                236.50     0   \n",
       "3                     74.15   29     54806.18                245.89     1   \n",
       "4                     68.37   35     73889.99                225.58     0   \n",
       "\n",
       "      Country            Timestamp  Clicked on Ad  \n",
       "0     Tunisia  2016-03-27 00:53:11              0  \n",
       "1       Nauru  2016-04-04 01:39:02              0  \n",
       "2  San Marino  2016-03-13 20:35:42              0  \n",
       "3       Italy  2016-01-10 02:31:19              0  \n",
       "4     Iceland  2016-06-03 03:36:18              0  "
      ]
     },
     "execution_count": 11,
     "metadata": {},
     "output_type": "execute_result"
    }
   ],
   "source": [
    "#Drop 'City', all 1000 values has 969  unqiue Cities\n",
    "dataset=dataset.drop( columns='City')\n",
    "dataset.head()"
   ]
  },
  {
   "cell_type": "code",
   "execution_count": 12,
   "metadata": {},
   "outputs": [
    {
     "data": {
      "text/plain": [
       "237"
      ]
     },
     "execution_count": 12,
     "metadata": {},
     "output_type": "execute_result"
    }
   ],
   "source": [
    "##ULS \n",
    "#  1 hot encoding, 'Country'\n",
    "len(dataset['Country'].value_counts())"
   ]
  },
  {
   "cell_type": "code",
   "execution_count": 13,
   "metadata": {},
   "outputs": [
    {
     "data": {
      "text/html": [
       "<div>\n",
       "<style scoped>\n",
       "    .dataframe tbody tr th:only-of-type {\n",
       "        vertical-align: middle;\n",
       "    }\n",
       "\n",
       "    .dataframe tbody tr th {\n",
       "        vertical-align: top;\n",
       "    }\n",
       "\n",
       "    .dataframe thead th {\n",
       "        text-align: right;\n",
       "    }\n",
       "</style>\n",
       "<table border=\"1\" class=\"dataframe\">\n",
       "  <thead>\n",
       "    <tr style=\"text-align: right;\">\n",
       "      <th></th>\n",
       "      <th>Daily Time Spent on Site</th>\n",
       "      <th>Age</th>\n",
       "      <th>Area Income</th>\n",
       "      <th>Daily Internet Usage</th>\n",
       "      <th>Male</th>\n",
       "      <th>Timestamp</th>\n",
       "      <th>Clicked on Ad</th>\n",
       "    </tr>\n",
       "  </thead>\n",
       "  <tbody>\n",
       "    <tr>\n",
       "      <th>0</th>\n",
       "      <td>68.95</td>\n",
       "      <td>35</td>\n",
       "      <td>61833.90</td>\n",
       "      <td>256.09</td>\n",
       "      <td>0</td>\n",
       "      <td>2016-03-27 00:53:11</td>\n",
       "      <td>0</td>\n",
       "    </tr>\n",
       "    <tr>\n",
       "      <th>1</th>\n",
       "      <td>80.23</td>\n",
       "      <td>31</td>\n",
       "      <td>68441.85</td>\n",
       "      <td>193.77</td>\n",
       "      <td>1</td>\n",
       "      <td>2016-04-04 01:39:02</td>\n",
       "      <td>0</td>\n",
       "    </tr>\n",
       "    <tr>\n",
       "      <th>2</th>\n",
       "      <td>69.47</td>\n",
       "      <td>26</td>\n",
       "      <td>59785.94</td>\n",
       "      <td>236.50</td>\n",
       "      <td>0</td>\n",
       "      <td>2016-03-13 20:35:42</td>\n",
       "      <td>0</td>\n",
       "    </tr>\n",
       "    <tr>\n",
       "      <th>3</th>\n",
       "      <td>74.15</td>\n",
       "      <td>29</td>\n",
       "      <td>54806.18</td>\n",
       "      <td>245.89</td>\n",
       "      <td>1</td>\n",
       "      <td>2016-01-10 02:31:19</td>\n",
       "      <td>0</td>\n",
       "    </tr>\n",
       "    <tr>\n",
       "      <th>4</th>\n",
       "      <td>68.37</td>\n",
       "      <td>35</td>\n",
       "      <td>73889.99</td>\n",
       "      <td>225.58</td>\n",
       "      <td>0</td>\n",
       "      <td>2016-06-03 03:36:18</td>\n",
       "      <td>0</td>\n",
       "    </tr>\n",
       "  </tbody>\n",
       "</table>\n",
       "</div>"
      ],
      "text/plain": [
       "   Daily Time Spent on Site  Age  Area Income  Daily Internet Usage  Male  \\\n",
       "0                     68.95   35     61833.90                256.09     0   \n",
       "1                     80.23   31     68441.85                193.77     1   \n",
       "2                     69.47   26     59785.94                236.50     0   \n",
       "3                     74.15   29     54806.18                245.89     1   \n",
       "4                     68.37   35     73889.99                225.58     0   \n",
       "\n",
       "             Timestamp  Clicked on Ad  \n",
       "0  2016-03-27 00:53:11              0  \n",
       "1  2016-04-04 01:39:02              0  \n",
       "2  2016-03-13 20:35:42              0  \n",
       "3  2016-01-10 02:31:19              0  \n",
       "4  2016-06-03 03:36:18              0  "
      ]
     },
     "execution_count": 13,
     "metadata": {},
     "output_type": "execute_result"
    }
   ],
   "source": [
    "#Drop 'Country', all 1000 values has 237 unqiue (Almost on an average of 4 enties for same country)\n",
    "dataset=dataset.drop( columns='Country')\n",
    "dataset.head()"
   ]
  },
  {
   "cell_type": "code",
   "execution_count": 14,
   "metadata": {},
   "outputs": [
    {
     "data": {
      "text/plain": [
       "1000"
      ]
     },
     "execution_count": 14,
     "metadata": {},
     "output_type": "execute_result"
    }
   ],
   "source": [
    "##ULS \n",
    "#1 hot encoding, 'Timestamp'\n",
    "len(dataset['Timestamp'].value_counts())"
   ]
  },
  {
   "cell_type": "code",
   "execution_count": 15,
   "metadata": {},
   "outputs": [
    {
     "data": {
      "text/html": [
       "<div>\n",
       "<style scoped>\n",
       "    .dataframe tbody tr th:only-of-type {\n",
       "        vertical-align: middle;\n",
       "    }\n",
       "\n",
       "    .dataframe tbody tr th {\n",
       "        vertical-align: top;\n",
       "    }\n",
       "\n",
       "    .dataframe thead th {\n",
       "        text-align: right;\n",
       "    }\n",
       "</style>\n",
       "<table border=\"1\" class=\"dataframe\">\n",
       "  <thead>\n",
       "    <tr style=\"text-align: right;\">\n",
       "      <th></th>\n",
       "      <th>Daily Time Spent on Site</th>\n",
       "      <th>Age</th>\n",
       "      <th>Area Income</th>\n",
       "      <th>Daily Internet Usage</th>\n",
       "      <th>Male</th>\n",
       "      <th>Clicked on Ad</th>\n",
       "    </tr>\n",
       "  </thead>\n",
       "  <tbody>\n",
       "    <tr>\n",
       "      <th>0</th>\n",
       "      <td>68.95</td>\n",
       "      <td>35</td>\n",
       "      <td>61833.90</td>\n",
       "      <td>256.09</td>\n",
       "      <td>0</td>\n",
       "      <td>0</td>\n",
       "    </tr>\n",
       "    <tr>\n",
       "      <th>1</th>\n",
       "      <td>80.23</td>\n",
       "      <td>31</td>\n",
       "      <td>68441.85</td>\n",
       "      <td>193.77</td>\n",
       "      <td>1</td>\n",
       "      <td>0</td>\n",
       "    </tr>\n",
       "    <tr>\n",
       "      <th>2</th>\n",
       "      <td>69.47</td>\n",
       "      <td>26</td>\n",
       "      <td>59785.94</td>\n",
       "      <td>236.50</td>\n",
       "      <td>0</td>\n",
       "      <td>0</td>\n",
       "    </tr>\n",
       "    <tr>\n",
       "      <th>3</th>\n",
       "      <td>74.15</td>\n",
       "      <td>29</td>\n",
       "      <td>54806.18</td>\n",
       "      <td>245.89</td>\n",
       "      <td>1</td>\n",
       "      <td>0</td>\n",
       "    </tr>\n",
       "    <tr>\n",
       "      <th>4</th>\n",
       "      <td>68.37</td>\n",
       "      <td>35</td>\n",
       "      <td>73889.99</td>\n",
       "      <td>225.58</td>\n",
       "      <td>0</td>\n",
       "      <td>0</td>\n",
       "    </tr>\n",
       "  </tbody>\n",
       "</table>\n",
       "</div>"
      ],
      "text/plain": [
       "   Daily Time Spent on Site  Age  Area Income  Daily Internet Usage  Male  \\\n",
       "0                     68.95   35     61833.90                256.09     0   \n",
       "1                     80.23   31     68441.85                193.77     1   \n",
       "2                     69.47   26     59785.94                236.50     0   \n",
       "3                     74.15   29     54806.18                245.89     1   \n",
       "4                     68.37   35     73889.99                225.58     0   \n",
       "\n",
       "   Clicked on Ad  \n",
       "0              0  \n",
       "1              0  \n",
       "2              0  \n",
       "3              0  \n",
       "4              0  "
      ]
     },
     "execution_count": 15,
     "metadata": {},
     "output_type": "execute_result"
    }
   ],
   "source": [
    "#Drop 'Timestamp', all 1000 values are unqiue\n",
    "dataset=dataset.drop( columns='Timestamp')\n",
    "dataset.head()"
   ]
  },
  {
   "cell_type": "markdown",
   "metadata": {},
   "source": [
    "We tried to \"1 Hot Encoding\" 3 attribute which were not numeric asumming categorical <br>\n",
    " 1) 'Ad Topic Line':1000 rows has 1000 unique values, not possible to \"1 hot encoding\" so droping the  'Ad Topic Line' attribure<br>\n",
    " 2) 'City': 1000 rows has 969 unique values, not possible to \"1 hot encoding\" so droping the 'City' attribute<br>\n",
    " 3) 'Country': 1000 rows has 237 unique values, not possible to \"1 hot encoding\" so droping the 'Country' attribute<br>"
   ]
  },
  {
   "cell_type": "markdown",
   "metadata": {},
   "source": [
    "### Q2: Split features and labels"
   ]
  },
  {
   "cell_type": "code",
   "execution_count": 16,
   "metadata": {},
   "outputs": [],
   "source": [
    "# Generating tf.data.Dataset objects for each dataframe by spiltting the features and labels\n",
    "def dataframe_to_dataset(dataframe):\n",
    "    dataframe = dataframe.copy()\n",
    "    labels = dataframe.pop(\"Clicked on Ad\")\n",
    "    ds = tf.data.Dataset.from_tensor_slices((dict(dataframe), labels))\n",
    "    ds = ds.shuffle(buffer_size=len(dataframe))\n",
    "    return ds"
   ]
  },
  {
   "cell_type": "markdown",
   "metadata": {},
   "source": [
    "### Q3. Split train and test data "
   ]
  },
  {
   "cell_type": "code",
   "execution_count": 17,
   "metadata": {},
   "outputs": [
    {
     "name": "stdout",
     "output_type": "stream",
     "text": [
      "Using 800 samples for training and 200 for validation\n"
     ]
    }
   ],
   "source": [
    "#Split the data into a training and validation set\n",
    "val_dataframe = dataset.sample(frac=0.2, random_state=75)\n",
    "train_dataframe = dataset.drop(val_dataframe.index)\n",
    "\n",
    "print(\n",
    "    \"Using %d samples for training and %d for validation\"\n",
    "    % (len(train_dataframe), len(val_dataframe))\n",
    ")"
   ]
  },
  {
   "cell_type": "code",
   "execution_count": 18,
   "metadata": {},
   "outputs": [],
   "source": [
    "train_ds = dataframe_to_dataset(train_dataframe)\n",
    "val_ds = dataframe_to_dataset(val_dataframe)"
   ]
  },
  {
   "cell_type": "markdown",
   "metadata": {},
   "source": [
    "Each Dataset yields a tuple (input, target) where input is a dictionary of features and target is the value 0 or 1"
   ]
  },
  {
   "cell_type": "code",
   "execution_count": 19,
   "metadata": {},
   "outputs": [
    {
     "name": "stdout",
     "output_type": "stream",
     "text": [
      "Input: {'Daily Time Spent on Site': <tf.Tensor: shape=(), dtype=float64, numpy=48.86>, 'Age': <tf.Tensor: shape=(), dtype=int64, numpy=54>, 'Area Income': <tf.Tensor: shape=(), dtype=float64, numpy=53188.69>, 'Daily Internet Usage': <tf.Tensor: shape=(), dtype=float64, numpy=134.46>, 'Male': <tf.Tensor: shape=(), dtype=int64, numpy=0>}\n",
      "Target: tf.Tensor(1, shape=(), dtype=int64)\n"
     ]
    }
   ],
   "source": [
    "for x, y in train_ds.take(1):\n",
    "    print(\"Input:\", x)\n",
    "    print(\"Target:\", y)"
   ]
  },
  {
   "cell_type": "code",
   "execution_count": 20,
   "metadata": {},
   "outputs": [
    {
     "data": {
      "text/plain": [
       "[({'Daily Time Spent on Site': 85.26,\n",
       "   'Age': 32,\n",
       "   'Area Income': 55424.24,\n",
       "   'Daily Internet Usage': 224.07,\n",
       "   'Male': 1},\n",
       "  0)]"
      ]
     },
     "execution_count": 20,
     "metadata": {},
     "output_type": "execute_result"
    }
   ],
   "source": [
    "list(train_ds.take(1).as_numpy_iterator())"
   ]
  },
  {
   "cell_type": "markdown",
   "metadata": {},
   "source": [
    "Let's batch the datasets:"
   ]
  },
  {
   "cell_type": "code",
   "execution_count": 21,
   "metadata": {},
   "outputs": [],
   "source": [
    "train_ds = train_ds.batch(50)\n",
    "val_ds = val_ds.batch(50)"
   ]
  },
  {
   "cell_type": "markdown",
   "metadata": {},
   "source": [
    "All the selected features are continous numerical, Hence for each of these features, we will use a Normalization() layer to make sure the mean of each feature is 0 and its standard deviation is 1."
   ]
  },
  {
   "cell_type": "code",
   "execution_count": 22,
   "metadata": {},
   "outputs": [],
   "source": [
    "#Normalizing the data\n",
    "def encode_numerical_feature(feature, name, dataset):\n",
    "    # Create a Normalization layer for our feature\n",
    "    normalizer = Normalization()\n",
    "\n",
    "    # Prepare a Dataset that only yields our feature\n",
    "    feature_ds = dataset.map(lambda x, y: x[name])\n",
    "    feature_ds = feature_ds.map(lambda x: tf.expand_dims(x, -1))\n",
    "\n",
    "    # Learn the statistics of the data\n",
    "    normalizer.adapt(feature_ds)\n",
    "\n",
    "    # Normalize the input feature\n",
    "    encoded_feature = normalizer(feature)\n",
    "    return encoded_feature"
   ]
  },
  {
   "cell_type": "markdown",
   "metadata": {},
   "source": [
    "### Q4. Implement ANN Classifier using Keras"
   ]
  },
  {
   "cell_type": "code",
   "execution_count": 23,
   "metadata": {},
   "outputs": [],
   "source": [
    "# Numerical features as Input\n",
    "age = keras.Input(shape=(1,), name=\"Age\")\n",
    "time_spent = keras.Input(shape=(1,), name=\"Daily Time Spent on Site\")\n",
    "income = keras.Input(shape=(1,), name=\"Area Income\")\n",
    "internet = keras.Input(shape=(1,), name=\"Daily Internet Usage\")\n",
    "male = keras.Input(shape=(1,), name=\"Male\")\n",
    "\n",
    "all_inputs = [age, time_spent, income, internet, male]\n",
    "\n",
    "# Encoding Numerical features\n",
    "age_encoded = encode_numerical_feature(age, \"Age\", train_ds)\n",
    "time_encoded = encode_numerical_feature(time_spent, \"Daily Time Spent on Site\", train_ds)\n",
    "income_encoded = encode_numerical_feature(income, \"Area Income\", train_ds)\n",
    "internet_encoded = encode_numerical_feature(internet, \"Daily Internet Usage\", train_ds)\n",
    "male_encoded = encode_numerical_feature(male, \"Male\", train_ds)\n",
    "\n",
    "all_features = layers.concatenate([age_encoded, time_encoded, income_encoded, internet_encoded, male_encoded])"
   ]
  },
  {
   "cell_type": "code",
   "execution_count": 24,
   "metadata": {},
   "outputs": [],
   "source": [
    "x = layers.Dense(32, activation=\"relu\")(all_features)\n",
    "x = layers.Dropout(0.5)(x)\n",
    "output = layers.Dense(1, activation=\"sigmoid\")(x)\n",
    "model = keras.Model(all_inputs, output)\n",
    "model.compile(\"adam\", \"binary_crossentropy\", metrics=[\"accuracy\"])"
   ]
  },
  {
   "cell_type": "markdown",
   "metadata": {},
   "source": [
    "Let's visualize our connectivity graph:"
   ]
  },
  {
   "cell_type": "code",
   "execution_count": 25,
   "metadata": {},
   "outputs": [
    {
     "data": {
      "image/png": "[encoded data removed]",
      "text/plain": [
       "<IPython.core.display.Image object>"
      ]
     },
     "execution_count": 25,
     "metadata": {},
     "output_type": "execute_result"
    }
   ],
   "source": [
    "# `rankdir='LR'` is to make the graph horizontal.\n",
    "keras.utils.plot_model(model, show_shapes=True, rankdir=\"LR\")"
   ]
  },
  {
   "cell_type": "code",
   "execution_count": 26,
   "metadata": {},
   "outputs": [
    {
     "name": "stdout",
     "output_type": "stream",
     "text": [
      "Epoch 1/50\n",
      "16/16 [==============================] - 1s 32ms/step - loss: 0.7095 - accuracy: 0.5415 - val_loss: 0.6240 - val_accuracy: 0.7700\n",
      "Epoch 2/50\n",
      "16/16 [==============================] - 0s 3ms/step - loss: 0.6375 - accuracy: 0.6602 - val_loss: 0.5550 - val_accuracy: 0.8600\n",
      "Epoch 3/50\n",
      "16/16 [==============================] - 0s 3ms/step - loss: 0.5577 - accuracy: 0.7557 - val_loss: 0.4921 - val_accuracy: 0.9400\n",
      "Epoch 4/50\n",
      "16/16 [==============================] - 0s 3ms/step - loss: 0.5093 - accuracy: 0.8228 - val_loss: 0.4370 - val_accuracy: 0.9550\n",
      "Epoch 5/50\n",
      "16/16 [==============================] - 0s 3ms/step - loss: 0.4612 - accuracy: 0.8357 - val_loss: 0.3883 - val_accuracy: 0.9650\n",
      "Epoch 6/50\n",
      "16/16 [==============================] - 0s 3ms/step - loss: 0.4152 - accuracy: 0.8841 - val_loss: 0.3448 - val_accuracy: 0.9650\n",
      "Epoch 7/50\n",
      "16/16 [==============================] - 0s 3ms/step - loss: 0.3798 - accuracy: 0.8980 - val_loss: 0.3062 - val_accuracy: 0.9650\n",
      "Epoch 8/50\n",
      "16/16 [==============================] - 0s 3ms/step - loss: 0.3464 - accuracy: 0.9085 - val_loss: 0.2726 - val_accuracy: 0.9650\n",
      "Epoch 9/50\n",
      "16/16 [==============================] - 0s 3ms/step - loss: 0.3068 - accuracy: 0.9393 - val_loss: 0.2430 - val_accuracy: 0.9650\n",
      "Epoch 10/50\n",
      "16/16 [==============================] - 0s 3ms/step - loss: 0.2736 - accuracy: 0.9347 - val_loss: 0.2193 - val_accuracy: 0.9650\n",
      "Epoch 11/50\n",
      "16/16 [==============================] - 0s 3ms/step - loss: 0.2569 - accuracy: 0.9275 - val_loss: 0.1991 - val_accuracy: 0.9700\n",
      "Epoch 12/50\n",
      "16/16 [==============================] - 0s 3ms/step - loss: 0.2584 - accuracy: 0.9291 - val_loss: 0.1826 - val_accuracy: 0.9700\n",
      "Epoch 13/50\n",
      "16/16 [==============================] - 0s 3ms/step - loss: 0.2533 - accuracy: 0.9405 - val_loss: 0.1686 - val_accuracy: 0.9700\n",
      "Epoch 14/50\n",
      "16/16 [==============================] - 0s 3ms/step - loss: 0.2190 - accuracy: 0.9453 - val_loss: 0.1558 - val_accuracy: 0.9700\n",
      "Epoch 15/50\n",
      "16/16 [==============================] - 0s 3ms/step - loss: 0.2060 - accuracy: 0.9451 - val_loss: 0.1451 - val_accuracy: 0.9700\n",
      "Epoch 16/50\n",
      "16/16 [==============================] - 0s 3ms/step - loss: 0.1865 - accuracy: 0.9464 - val_loss: 0.1372 - val_accuracy: 0.9650\n",
      "Epoch 17/50\n",
      "16/16 [==============================] - 0s 3ms/step - loss: 0.1780 - accuracy: 0.9486 - val_loss: 0.1299 - val_accuracy: 0.9650\n",
      "Epoch 18/50\n",
      "16/16 [==============================] - 0s 3ms/step - loss: 0.1696 - accuracy: 0.9518 - val_loss: 0.1230 - val_accuracy: 0.9650\n",
      "Epoch 19/50\n",
      "16/16 [==============================] - 0s 3ms/step - loss: 0.1691 - accuracy: 0.9522 - val_loss: 0.1173 - val_accuracy: 0.9650\n",
      "Epoch 20/50\n",
      "16/16 [==============================] - 0s 3ms/step - loss: 0.1833 - accuracy: 0.9534 - val_loss: 0.1123 - val_accuracy: 0.9650\n",
      "Epoch 21/50\n",
      "16/16 [==============================] - 0s 3ms/step - loss: 0.1664 - accuracy: 0.9519 - val_loss: 0.1083 - val_accuracy: 0.9650\n",
      "Epoch 22/50\n",
      "16/16 [==============================] - 0s 3ms/step - loss: 0.1696 - accuracy: 0.9523 - val_loss: 0.1043 - val_accuracy: 0.9750\n",
      "Epoch 23/50\n",
      "16/16 [==============================] - 0s 3ms/step - loss: 0.1610 - accuracy: 0.9407 - val_loss: 0.1011 - val_accuracy: 0.9750\n",
      "Epoch 24/50\n",
      "16/16 [==============================] - 0s 4ms/step - loss: 0.1257 - accuracy: 0.9583 - val_loss: 0.0981 - val_accuracy: 0.9750\n",
      "Epoch 25/50\n",
      "16/16 [==============================] - 0s 4ms/step - loss: 0.1364 - accuracy: 0.9600 - val_loss: 0.0958 - val_accuracy: 0.9750\n",
      "Epoch 26/50\n",
      "16/16 [==============================] - 0s 9ms/step - loss: 0.1540 - accuracy: 0.9540 - val_loss: 0.0942 - val_accuracy: 0.9750\n",
      "Epoch 27/50\n",
      "16/16 [==============================] - 0s 3ms/step - loss: 0.1328 - accuracy: 0.9636 - val_loss: 0.0922 - val_accuracy: 0.9700\n",
      "Epoch 28/50\n",
      "16/16 [==============================] - 0s 4ms/step - loss: 0.1330 - accuracy: 0.9562 - val_loss: 0.0911 - val_accuracy: 0.9750\n",
      "Epoch 29/50\n",
      "16/16 [==============================] - 0s 3ms/step - loss: 0.1192 - accuracy: 0.9709 - val_loss: 0.0896 - val_accuracy: 0.9750\n",
      "Epoch 30/50\n",
      "16/16 [==============================] - 0s 3ms/step - loss: 0.1344 - accuracy: 0.9596 - val_loss: 0.0889 - val_accuracy: 0.9750\n",
      "Epoch 31/50\n",
      "16/16 [==============================] - 0s 3ms/step - loss: 0.1346 - accuracy: 0.9598 - val_loss: 0.0876 - val_accuracy: 0.9750\n",
      "Epoch 32/50\n",
      "16/16 [==============================] - 0s 3ms/step - loss: 0.1441 - accuracy: 0.9550 - val_loss: 0.0872 - val_accuracy: 0.9750\n",
      "Epoch 33/50\n",
      "16/16 [==============================] - 0s 4ms/step - loss: 0.1091 - accuracy: 0.9700 - val_loss: 0.0852 - val_accuracy: 0.9750\n",
      "Epoch 34/50\n",
      "16/16 [==============================] - 0s 4ms/step - loss: 0.1249 - accuracy: 0.9647 - val_loss: 0.0840 - val_accuracy: 0.9750\n",
      "Epoch 35/50\n",
      "16/16 [==============================] - 0s 4ms/step - loss: 0.1308 - accuracy: 0.9608 - val_loss: 0.0830 - val_accuracy: 0.9750\n",
      "Epoch 36/50\n",
      "16/16 [==============================] - 0s 3ms/step - loss: 0.1121 - accuracy: 0.9660 - val_loss: 0.0823 - val_accuracy: 0.9750\n",
      "Epoch 37/50\n",
      "16/16 [==============================] - 0s 4ms/step - loss: 0.1247 - accuracy: 0.9581 - val_loss: 0.0820 - val_accuracy: 0.9750\n",
      "Epoch 38/50\n",
      "16/16 [==============================] - 0s 3ms/step - loss: 0.1157 - accuracy: 0.9600 - val_loss: 0.0819 - val_accuracy: 0.9750\n",
      "Epoch 39/50\n",
      "16/16 [==============================] - 0s 3ms/step - loss: 0.1112 - accuracy: 0.9608 - val_loss: 0.0810 - val_accuracy: 0.9750\n",
      "Epoch 40/50\n",
      "16/16 [==============================] - 0s 2ms/step - loss: 0.1167 - accuracy: 0.9662 - val_loss: 0.0803 - val_accuracy: 0.9750\n",
      "Epoch 41/50\n",
      "16/16 [==============================] - 0s 3ms/step - loss: 0.1317 - accuracy: 0.9599 - val_loss: 0.0799 - val_accuracy: 0.9750\n",
      "Epoch 42/50\n",
      "16/16 [==============================] - 0s 3ms/step - loss: 0.1262 - accuracy: 0.9553 - val_loss: 0.0798 - val_accuracy: 0.9750\n",
      "Epoch 43/50\n",
      "16/16 [==============================] - 0s 3ms/step - loss: 0.1177 - accuracy: 0.9668 - val_loss: 0.0794 - val_accuracy: 0.9750\n",
      "Epoch 44/50\n",
      "16/16 [==============================] - 0s 3ms/step - loss: 0.1229 - accuracy: 0.9647 - val_loss: 0.0797 - val_accuracy: 0.9750\n",
      "Epoch 45/50\n",
      "16/16 [==============================] - 0s 3ms/step - loss: 0.1084 - accuracy: 0.9627 - val_loss: 0.0796 - val_accuracy: 0.9750\n",
      "Epoch 46/50\n",
      "16/16 [==============================] - 0s 3ms/step - loss: 0.1254 - accuracy: 0.9629 - val_loss: 0.0792 - val_accuracy: 0.9750\n",
      "Epoch 47/50\n",
      "16/16 [==============================] - 0s 3ms/step - loss: 0.1174 - accuracy: 0.9680 - val_loss: 0.0789 - val_accuracy: 0.9750\n",
      "Epoch 48/50\n",
      "16/16 [==============================] - 0s 3ms/step - loss: 0.1434 - accuracy: 0.9438 - val_loss: 0.0785 - val_accuracy: 0.9750\n",
      "Epoch 49/50\n",
      "16/16 [==============================] - 0s 3ms/step - loss: 0.1099 - accuracy: 0.9714 - val_loss: 0.0783 - val_accuracy: 0.9750\n",
      "Epoch 50/50\n",
      "16/16 [==============================] - 0s 3ms/step - loss: 0.1080 - accuracy: 0.9624 - val_loss: 0.0785 - val_accuracy: 0.9750\n"
     ]
    }
   ],
   "source": [
    "# Train the model\n",
    "history = model.fit(train_ds, epochs=50, validation_data=val_ds)"
   ]
  },
  {
   "cell_type": "markdown",
   "metadata": {},
   "source": [
    "### Q5. Calculate accuracy measures "
   ]
  },
  {
   "cell_type": "code",
   "execution_count": 27,
   "metadata": {},
   "outputs": [
    {
     "data": {
      "image/png": "[encoded data removed]",
      "text/plain": [
       "<Figure size 432x288 with 1 Axes>"
      ]
     },
     "metadata": {
      "needs_background": "light"
     },
     "output_type": "display_data"
    }
   ],
   "source": [
    "import matplotlib.pyplot as plt\n",
    "plt.plot(history.history['accuracy'])\n",
    "plt.plot(history.history['val_accuracy'])\n",
    "plt.title('Model accuracy')\n",
    "plt.ylabel('Accuracy')\n",
    "plt.xlabel('Epoch')\n",
    "plt.legend(['Train', 'Test'], loc='upper left')\n",
    "plt.show()"
   ]
  },
  {
   "cell_type": "code",
   "execution_count": 28,
   "metadata": {},
   "outputs": [
    {
     "data": {
      "image/png": "[encoded data removed]",
      "text/plain": [
       "<Figure size 432x288 with 1 Axes>"
      ]
     },
     "metadata": {
      "needs_background": "light"
     },
     "output_type": "display_data"
    }
   ],
   "source": [
    "plt.plot(history.history['loss']) \n",
    "plt.plot(history.history['val_loss']) \n",
    "plt.title('Model loss') \n",
    "plt.ylabel('Loss') \n",
    "plt.xlabel('Epoch') \n",
    "plt.legend(['Train', 'Test'], loc='upper left') \n",
    "plt.show()"
   ]
  },
  {
   "cell_type": "markdown",
   "metadata": {},
   "source": [
    "We see that the Accuracy is approximate 96.3% for the above model and validation accuracy is 97.5% for the above model. "
   ]
  }
 ],
 "metadata": {
  "kernelspec": {
   "display_name": "Python 3",
   "language": "python",
   "name": "python3"
  },
  "language_info": {
   "codemirror_mode": {
    "name": "ipython",
    "version": 3
   },
   "file_extension": ".py",
   "mimetype": "text/x-python",
   "name": "python",
   "nbconvert_exporter": "python",
   "pygments_lexer": "ipython3",
   "version": "3.7.6"
  }
 },
 "nbformat": 4,
 "nbformat_minor": 4
}
